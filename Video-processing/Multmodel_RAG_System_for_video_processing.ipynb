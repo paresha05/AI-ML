{
  "nbformat": 4,
  "nbformat_minor": 0,
  "metadata": {
    "colab": {
      "provenance": [],
      "gpuType": "T4"
    },
    "kernelspec": {
      "name": "python3",
      "display_name": "Python 3"
    },
    "language_info": {
      "name": "python"
    },
    "accelerator": "GPU"
  },
  "cells": [
    {
      "cell_type": "code",
      "execution_count": null,
      "metadata": {
        "id": "OAsuGoD57sPC"
      },
      "outputs": [],
      "source": [
        "%pip install llama-index-vector-stores-lancedb\n",
        "%pip install llama-index-multi-modal-llms-openai"
      ]
    },
    {
      "cell_type": "code",
      "source": [
        "#%pip install llama-index-multi-modal-llms-openai\n",
        "#%pip install llama-index-vector-stores-lancedb\n",
        "%pip install llama-index-embeddings-clip"
      ],
      "metadata": {
        "id": "R6wIq_e8AXua"
      },
      "execution_count": null,
      "outputs": []
    },
    {
      "cell_type": "code",
      "source": [
        "%pip install llama_index ftfy regex tqdm\n",
        "%pip install -U openai-whisper\n",
        "%pip install git+https://github.com/openai/CLIP.git\n",
        "%pip install torch torchvision\n",
        "%pip install matplotlib scikit-image\n",
        "%pip install lancedb\n",
        "%pip install moviepy\n",
        "%pip install pytube\n",
        "%pip install pydub\n",
        "%pip install SpeechRecognition\n",
        "%pip install ffmpeg-python\n",
        "%pip install soundfile"
      ],
      "metadata": {
        "id": "NwSkX7yVA7D9"
      },
      "execution_count": null,
      "outputs": []
    },
    {
      "cell_type": "code",
      "source": [
        "from moviepy.editor import VideoFileClip\n",
        "from pathlib import Path\n",
        "import speech_recognition as sr\n",
        "from pytube import YouTube\n",
        "from pprint import pprint"
      ],
      "metadata": {
        "id": "Y2keTnMeBVtH"
      },
      "execution_count": null,
      "outputs": []
    },
    {
      "cell_type": "code",
      "source": [
        "from google.colab import userdata\n",
        "OPENAI_API_TOKEN=userdata.get('OPENAI_API_KEY')"
      ],
      "metadata": {
        "id": "lmthLkvMChQS"
      },
      "execution_count": null,
      "outputs": []
    },
    {
      "cell_type": "code",
      "source": [
        "import os\n",
        "os.environ[\"OPENAI_API_KEY\"] = OPENAI_API_TOKEN"
      ],
      "metadata": {
        "id": "9ap37E5eDqEL"
      },
      "execution_count": null,
      "outputs": []
    },
    {
      "cell_type": "code",
      "source": [
        "from PIL import Image\n",
        "import matplotlib.pyplot as plt"
      ],
      "metadata": {
        "id": "0lGPRPxPDy_J"
      },
      "execution_count": null,
      "outputs": []
    },
    {
      "cell_type": "code",
      "source": [
        "import os\n",
        "os.getcwd()"
      ],
      "metadata": {
        "id": "qQB_g8nQGWtA"
      },
      "execution_count": null,
      "outputs": []
    },
    {
      "cell_type": "code",
      "source": [
        "video_url=\"https://youtu.be/3dhcmeOTZ_Q\"\n",
        "output_video_path = \"/content/video_data/\"\n",
        "output_folder = \"/content/mixed_data/\"\n",
        "output_audio_path = \"/content/mixed_data/output_audio.wav\""
      ],
      "metadata": {
        "id": "kmX07RnNF6F5"
      },
      "execution_count": null,
      "outputs": []
    },
    {
      "cell_type": "code",
      "source": [
        "filepath=output_video_path + \"input_vid.mp4\""
      ],
      "metadata": {
        "id": "-DhH97a0G3Ll"
      },
      "execution_count": null,
      "outputs": []
    },
    {
      "cell_type": "code",
      "source": [
        "filepath"
      ],
      "metadata": {
        "id": "UhGYQ3zmHjCJ"
      },
      "execution_count": null,
      "outputs": []
    },
    {
      "cell_type": "code",
      "source": [
        "#filepath = output_video_path + \"input_vid.mp4\"\n",
        "#Path(output_folder).mkdir(parents=True, exist_ok=True)"
      ],
      "metadata": {
        "id": "lH_PgqOsNfgH"
      },
      "execution_count": null,
      "outputs": []
    },
    {
      "cell_type": "code",
      "source": [
        "#Path(filepath).mkdir(parents=True,exist_ok=True)"
      ],
      "metadata": {
        "id": "HjIRbvJPHEZ_"
      },
      "execution_count": null,
      "outputs": []
    },
    {
      "cell_type": "code",
      "source": [
        "import matplotlib.pyplot as plt"
      ],
      "metadata": {
        "id": "d6-GS6emcwGX"
      },
      "execution_count": null,
      "outputs": []
    },
    {
      "cell_type": "code",
      "source": [
        "def plot_images(images_path):\n",
        "  images_shown = 0\n",
        "  plt.figure(figsize=(16, 9))\n",
        "  for img_path in images_path:\n",
        "        if os.path.isfile(img_path):\n",
        "            image = Image.open(img_path)\n",
        "\n",
        "            plt.subplot(2, 3, images_shown + 1)\n",
        "            plt.imshow(image)\n",
        "            plt.xticks([])\n",
        "            plt.yticks([])\n",
        "\n",
        "            images_shown += 1\n",
        "            if images_shown >= 5:\n",
        "                break\n"
      ],
      "metadata": {
        "id": "LKHUF4Q0ENJU"
      },
      "execution_count": null,
      "outputs": []
    },
    {
      "cell_type": "code",
      "source": [
        "from pytube import YouTube\n",
        "def download_video(url,output_path):\n",
        "  yt = YouTube(url)\n",
        "  metadata = {\"Author\": yt.author, \"Title\": yt.title, \"Views\": yt.views}\n",
        "  yt.streams.get_highest_resolution().download(\n",
        "        output_path=output_path, filename=\"input_vid.mp4\"\n",
        "    )\n",
        "  return metadata"
      ],
      "metadata": {
        "id": "24d4PPpPEVaQ"
      },
      "execution_count": null,
      "outputs": []
    },
    {
      "cell_type": "markdown",
      "source": [],
      "metadata": {
        "id": "EjeMcQfEI4tF"
      }
    },
    {
      "cell_type": "code",
      "source": [
        "from moviepy.editor import VideoFileClip\n",
        "def video_to_images(video_path,output_flder):\n",
        "  clip=VideoFileClip(video_path)\n",
        "  clip.write_images_sequence(\n",
        "      os.path.join(output_folder,\"frame%04d.png\"),fps=0.2\n",
        "  )"
      ],
      "metadata": {
        "id": "SxcZxu2kEgnm"
      },
      "execution_count": null,
      "outputs": []
    },
    {
      "cell_type": "code",
      "source": [
        "def video_to_audio(video_path,output_audio_path):\n",
        "  clip=VideoFileClip(video_path)\n",
        "  audio=clip.audio\n",
        "  audio.write_audiofile(output_audio_path)\n"
      ],
      "metadata": {
        "id": "xpVSgmxwEm7n"
      },
      "execution_count": null,
      "outputs": []
    },
    {
      "cell_type": "code",
      "source": [
        "def audio_to_text(audio_path):\n",
        "  recognizer=sr.Recognizer()\n",
        "  audio=sr.AudioFile(audio_path)\n",
        "\n",
        "  with audio as source:\n",
        "    audio_data=recognizer.record(source)\n",
        "\n",
        "    try:\n",
        "\n",
        "      #recognize the speech\n",
        "      text = recognizer.recognize_whisper(audio_data)\n",
        "\n",
        "    except sr.UnknownValueError:\n",
        "      print(\"Speech recognition could not understand the audio.\")\n",
        "  return text\n",
        "\n"
      ],
      "metadata": {
        "id": "Ta1Dg7kFEt_L"
      },
      "execution_count": null,
      "outputs": []
    },
    {
      "cell_type": "code",
      "source": [
        "video_url"
      ],
      "metadata": {
        "id": "ngE6B1nSMx8H"
      },
      "execution_count": null,
      "outputs": []
    },
    {
      "cell_type": "code",
      "source": [
        "output_video_path"
      ],
      "metadata": {
        "id": "gUv75rWcM0Do"
      },
      "execution_count": null,
      "outputs": []
    },
    {
      "cell_type": "code",
      "source": [
        "metadata_vid = download_video(video_url, output_video_path)"
      ],
      "metadata": {
        "id": "Ud8qttH3E-1B"
      },
      "execution_count": null,
      "outputs": []
    },
    {
      "cell_type": "code",
      "source": [
        "metadata_vid"
      ],
      "metadata": {
        "id": "cAnP0dakOFvi"
      },
      "execution_count": null,
      "outputs": []
    },
    {
      "cell_type": "code",
      "source": [
        "filepath"
      ],
      "metadata": {
        "id": "gN-zZjTBOSWV"
      },
      "execution_count": null,
      "outputs": []
    },
    {
      "cell_type": "code",
      "source": [
        "output_folder"
      ],
      "metadata": {
        "id": "Gc1hUebpOVQj"
      },
      "execution_count": null,
      "outputs": []
    },
    {
      "cell_type": "code",
      "source": [
        "!mkdir mixed_data"
      ],
      "metadata": {
        "id": "6G5EqofoPfzX"
      },
      "execution_count": null,
      "outputs": []
    },
    {
      "cell_type": "code",
      "source": [
        "filepath"
      ],
      "metadata": {
        "id": "h75pp_KcSkxJ"
      },
      "execution_count": null,
      "outputs": []
    },
    {
      "cell_type": "code",
      "source": [
        "output_folder"
      ],
      "metadata": {
        "id": "t5c3EeX-SoDv"
      },
      "execution_count": null,
      "outputs": []
    },
    {
      "cell_type": "code",
      "source": [
        "video_to_images(filepath,output_folder)"
      ],
      "metadata": {
        "id": "1CsWOGQcFYjX"
      },
      "execution_count": null,
      "outputs": []
    },
    {
      "cell_type": "code",
      "source": [
        "filepath"
      ],
      "metadata": {
        "id": "ACWYdKGUP9YU"
      },
      "execution_count": null,
      "outputs": []
    },
    {
      "cell_type": "code",
      "source": [
        "output_audio_path"
      ],
      "metadata": {
        "id": "qhIVN_xhTCF1"
      },
      "execution_count": null,
      "outputs": []
    },
    {
      "cell_type": "code",
      "source": [
        "video_to_audio(filepath,output_audio_path)"
      ],
      "metadata": {
        "id": "tUNUGX1QFeX-"
      },
      "execution_count": null,
      "outputs": []
    },
    {
      "cell_type": "code",
      "source": [
        "output_audio_path"
      ],
      "metadata": {
        "id": "Q9jGOIxfTWlO"
      },
      "execution_count": null,
      "outputs": []
    },
    {
      "cell_type": "code",
      "source": [
        "text_data=audio_to_text(output_audio_path)"
      ],
      "metadata": {
        "id": "9EdPF_dAFj6N"
      },
      "execution_count": null,
      "outputs": []
    },
    {
      "cell_type": "code",
      "source": [
        "text_data"
      ],
      "metadata": {
        "id": "wK3qgVi0QLcK"
      },
      "execution_count": null,
      "outputs": []
    },
    {
      "cell_type": "code",
      "source": [
        "with open(output_folder + \"output_text.txt\", \"w\") as file:\n",
        "        file.write(text_data)\n",
        "print(\"Text data saved to file\")\n",
        "file.close()\n",
        "\n",
        "\n"
      ],
      "metadata": {
        "id": "W70bPaL0QRpe"
      },
      "execution_count": null,
      "outputs": []
    },
    {
      "cell_type": "code",
      "source": [
        "os.remove(output_audio_path)\n",
        "print(\"Audio file removed\")"
      ],
      "metadata": {
        "id": "7Jm22fkzYZ1Y"
      },
      "execution_count": null,
      "outputs": []
    },
    {
      "cell_type": "code",
      "source": [
        "# embedding lance db\n",
        "# llm"
      ],
      "metadata": {
        "id": "XWOzozqPRSnV"
      },
      "execution_count": null,
      "outputs": []
    },
    {
      "cell_type": "code",
      "source": [
        "!pip install llama-index-readers-file"
      ],
      "metadata": {
        "id": "OkxuvRgkXM-U"
      },
      "execution_count": null,
      "outputs": []
    },
    {
      "cell_type": "code",
      "source": [
        "from llama_index.core.indices import MultiModalVectorStoreIndex\n",
        "from llama_index.core import SimpleDirectoryReader\n",
        "from llama_index.core import StorageContext"
      ],
      "metadata": {
        "id": "9WR3_c7PXT-P"
      },
      "execution_count": null,
      "outputs": []
    },
    {
      "cell_type": "code",
      "source": [
        "from llama_index.vector_stores.lancedb import LanceDBVectorStore"
      ],
      "metadata": {
        "id": "5bd2H_CaXkt8"
      },
      "execution_count": null,
      "outputs": []
    },
    {
      "cell_type": "code",
      "source": [
        "text_store=LanceDBVectorStore(uri=\"lancedb\",table_name=\"text_collection\")\n",
        "image_store=LanceDBVectorStore(uri=\"lancedb\",table_name=\"image_collection\")"
      ],
      "metadata": {
        "id": "FN_njfNqX83Z"
      },
      "execution_count": null,
      "outputs": []
    },
    {
      "cell_type": "code",
      "source": [
        "storage_context=StorageContext.from_defaults(vector_store=text_store,image_store=image_store)"
      ],
      "metadata": {
        "id": "ieXOmtfXYfj2"
      },
      "execution_count": null,
      "outputs": []
    },
    {
      "cell_type": "code",
      "source": [
        "output_folder"
      ],
      "metadata": {
        "id": "5DTgG47aZAS1"
      },
      "execution_count": null,
      "outputs": []
    },
    {
      "cell_type": "code",
      "source": [
        "documents=SimpleDirectoryReader(output_folder).load_data()"
      ],
      "metadata": {
        "id": "Ch32EG90Y3N2"
      },
      "execution_count": null,
      "outputs": []
    },
    {
      "cell_type": "code",
      "source": [
        "documents"
      ],
      "metadata": {
        "id": "XnwicO_TZHvF"
      },
      "execution_count": null,
      "outputs": []
    },
    {
      "cell_type": "code",
      "source": [
        "index = MultiModalVectorStoreIndex.from_documents(documents,storage_context=storage_context)"
      ],
      "metadata": {
        "id": "AwTfvUfKZI3N"
      },
      "execution_count": null,
      "outputs": []
    },
    {
      "cell_type": "code",
      "source": [
        "retriever_engine=index.as_retriever(imilarity_top_k=5, image_similarity_top_k=5)"
      ],
      "metadata": {
        "id": "6C3MQsSoZfEF"
      },
      "execution_count": null,
      "outputs": []
    },
    {
      "cell_type": "markdown",
      "source": [
        "# RAG"
      ],
      "metadata": {
        "id": "bRd-FZlQaSDy"
      }
    },
    {
      "cell_type": "code",
      "source": [
        "import json\n",
        "metadata_str=json.dumps(metadata_vid)"
      ],
      "metadata": {
        "id": "6C8FU_Frav0G"
      },
      "execution_count": null,
      "outputs": []
    },
    {
      "cell_type": "code",
      "source": [
        "qa_tmpl_str=(\n",
        "    \"Given the provided information, including relevant images and retrieved context from the video, \\\n",
        "    accurately and precisely answer the query without any additional prior knowledge.\\n\"\n",
        "\n",
        "    \"---------------------\\n\"\n",
        "    \"Context: {context_str}\\n\"\n",
        "    \"Metadata for video: {metadata_str} \\n\"\n",
        "\n",
        "    \"---------------------\\n\"\n",
        "    \"Query: {query_str}\\n\"\n",
        "    \"Answer: \"\n",
        ")"
      ],
      "metadata": {
        "id": "Gdmv61G7aBV6"
      },
      "execution_count": null,
      "outputs": []
    },
    {
      "cell_type": "code",
      "source": [
        "qa_tmpl_str2=(\n",
        "    \"Given the provided information, including relevant images and retrieved context from the video, \\\n",
        "    accurately and precisely answer the query without any additional prior knowledge.\\n\"\n",
        "\n",
        "    \"---------------------\\n\"\n",
        "    \"Metadata for video: {metadata_str} \\n\"\n",
        "\n",
        "    \"---------------------\\n\"\n",
        "    \"Query: {query_str}\\n\"\n",
        "    \"Answer: \"\n",
        ")"
      ],
      "metadata": {
        "id": "qR2QU9pdj_ba"
      },
      "execution_count": null,
      "outputs": []
    },
    {
      "cell_type": "code",
      "source": [
        "from llama_index.core.response.notebook_utils import display_source_node\n",
        "from llama_index.core.schema import ImageNode"
      ],
      "metadata": {
        "id": "Y8HG926xa9iD"
      },
      "execution_count": null,
      "outputs": []
    },
    {
      "cell_type": "code",
      "source": [
        "query_str=\"what is a O'Reilly platform.?\""
      ],
      "metadata": {
        "id": "86gwR3VDbMq-"
      },
      "execution_count": null,
      "outputs": []
    },
    {
      "cell_type": "code",
      "source": [
        "retrieval_results=retriever_engine.retrieve(query_str)"
      ],
      "metadata": {
        "id": "t1UdrwiqbFLI"
      },
      "execution_count": null,
      "outputs": []
    },
    {
      "cell_type": "code",
      "source": [
        "retrieval_results"
      ],
      "metadata": {
        "id": "T9AzdZk8braf"
      },
      "execution_count": null,
      "outputs": []
    },
    {
      "cell_type": "code",
      "source": [
        "retrieved_image=[]\n",
        "retrieved_text=[]"
      ],
      "metadata": {
        "id": "xP9Fc9JwbuQ9"
      },
      "execution_count": null,
      "outputs": []
    },
    {
      "cell_type": "code",
      "source": [
        "for res_node in retrieval_results:\n",
        "  if isinstance(res_node.node,ImageNode):\n",
        "    retrieved_image.append(res_node.node.metadata[\"file_path\"])\n",
        "  else:\n",
        "     display_source_node(res_node, source_length=200)\n",
        "     retrieved_text.append(res_node.text)\n",
        "\n",
        "\n"
      ],
      "metadata": {
        "id": "jR055oPTb3c-"
      },
      "execution_count": null,
      "outputs": []
    },
    {
      "cell_type": "code",
      "source": [
        "retrieved_image"
      ],
      "metadata": {
        "id": "aGqznXHfdFy8"
      },
      "execution_count": null,
      "outputs": []
    },
    {
      "cell_type": "code",
      "source": [
        "retrieved_text"
      ],
      "metadata": {
        "id": "gib_LdutcAxv"
      },
      "execution_count": null,
      "outputs": []
    },
    {
      "cell_type": "code",
      "source": [
        "def retrieve(retriever_engine, query_str):\n",
        "    retrieval_results = retriever_engine.retrieve(query_str)\n",
        "\n",
        "    retrieved_image = []\n",
        "    retrieved_text = []\n",
        "    for res_node in retrieval_results:\n",
        "        if isinstance(res_node.node, ImageNode):\n",
        "            retrieved_image.append(res_node.node.metadata[\"file_path\"])\n",
        "        else:\n",
        "            display_source_node(res_node, source_length=200)\n",
        "            retrieved_text.append(res_node.text)\n",
        "\n",
        "    return retrieved_image, retrieved_text"
      ],
      "metadata": {
        "id": "5B4BiT94dLlw"
      },
      "execution_count": null,
      "outputs": []
    },
    {
      "cell_type": "code",
      "source": [
        "img, txt = retrieve(retriever_engine=retriever_engine, query_str=query_str)"
      ],
      "metadata": {
        "id": "Cad40W4bd2Ch"
      },
      "execution_count": null,
      "outputs": []
    },
    {
      "cell_type": "code",
      "source": [
        "output_folder"
      ],
      "metadata": {
        "id": "Ak5Pqa6Gd8ZO"
      },
      "execution_count": null,
      "outputs": []
    },
    {
      "cell_type": "code",
      "source": [
        "img"
      ],
      "metadata": {
        "id": "ZHaQiZU5d_eB"
      },
      "execution_count": null,
      "outputs": []
    },
    {
      "cell_type": "code",
      "source": [
        "image_documents = SimpleDirectoryReader(input_dir=output_folder, input_files=img).load_data()"
      ],
      "metadata": {
        "id": "952FvMYDdy8u"
      },
      "execution_count": null,
      "outputs": []
    },
    {
      "cell_type": "code",
      "source": [
        "image_documents2 = SimpleDirectoryReader(input_files=img).load_data()"
      ],
      "metadata": {
        "id": "Hi892vSOjAGi"
      },
      "execution_count": null,
      "outputs": []
    },
    {
      "cell_type": "code",
      "source": [
        "context_str = \"\".join(txt)"
      ],
      "metadata": {
        "id": "8OTwrn_TeJ88"
      },
      "execution_count": null,
      "outputs": []
    },
    {
      "cell_type": "code",
      "source": [
        "context_str"
      ],
      "metadata": {
        "id": "os8_Ok5CfI1A"
      },
      "execution_count": null,
      "outputs": []
    },
    {
      "cell_type": "code",
      "source": [
        "plot_images(img)"
      ],
      "metadata": {
        "id": "oDESieAreEm2"
      },
      "execution_count": null,
      "outputs": []
    },
    {
      "cell_type": "code",
      "source": [
        "qa_tmpl_str2"
      ],
      "metadata": {
        "id": "slH3gplhk4w2"
      },
      "execution_count": null,
      "outputs": []
    },
    {
      "cell_type": "code",
      "source": [
        "from llama_index.multi_modal_llms.openai import OpenAIMultiModal"
      ],
      "metadata": {
        "id": "mN91rICEePUg"
      },
      "execution_count": null,
      "outputs": []
    },
    {
      "cell_type": "code",
      "source": [
        "openai_mm_llm = OpenAIMultiModal(model=\"gpt-4-vision-preview\", api_key=OPENAI_API_TOKEN, max_new_tokens=1500)"
      ],
      "metadata": {
        "id": "0ZZQhGfdfPy-"
      },
      "execution_count": null,
      "outputs": []
    },
    {
      "cell_type": "code",
      "source": [],
      "metadata": {
        "id": "tjelSAFfiU9v"
      },
      "execution_count": null,
      "outputs": []
    },
    {
      "cell_type": "code",
      "source": [
        "result=openai_mm_llm.complete(\n",
        "    prompt=qa_tmpl_str2.format(\n",
        "        query_str=query_str,metadata_str=metadata_str\n",
        "    ),\n",
        "    image_documents=image_documents2,\n",
        ")"
      ],
      "metadata": {
        "id": "SHQ05DNHfUy4"
      },
      "execution_count": null,
      "outputs": []
    },
    {
      "cell_type": "code",
      "source": [
        "pprint(result.text)"
      ],
      "metadata": {
        "id": "oWwRb8W6h-cJ"
      },
      "execution_count": null,
      "outputs": []
    },
    {
      "cell_type": "code",
      "source": [
        "result2=openai_mm_llm.complete(\n",
        "    prompt=\"what is O'Reilly?\",\n",
        "    image_documents=image_documents2\n",
        ")\n",
        "print(result2.text)"
      ],
      "metadata": {
        "id": "-Gs1iomXgVon"
      },
      "execution_count": null,
      "outputs": []
    },
    {
      "cell_type": "code",
      "source": [
        "result3=openai_mm_llm.complete(\n",
        "    prompt=\"just tell me what you are seeing over the pecific ocean?\",\n",
        "    image_documents=image_documents2\n",
        ")\n",
        "pprint(result3.text)\n",
        "\n",
        "#real time system\n",
        "\n",
        "#sattalites\n",
        "\n",
        "#just tell me what you are seeing over the pecific ocean?"
      ],
      "metadata": {
        "id": "QgBeVV36lPY_"
      },
      "execution_count": null,
      "outputs": []
    },
    {
      "cell_type": "code",
      "source": [
        "realtime idea:\n",
        "\n",
        ""
      ],
      "metadata": {
        "id": "DTLeHEfnmF_o"
      },
      "execution_count": null,
      "outputs": []
    }
  ]
}
