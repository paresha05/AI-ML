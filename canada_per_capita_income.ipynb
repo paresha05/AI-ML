{
  "nbformat": 4,
  "nbformat_minor": 0,
  "metadata": {
    "colab": {
      "provenance": [],
      "gpuType": "T4",
      "mount_file_id": "1IsDTUo2pv0xw97k6GKMluy4eYPO4BQCe",
      "authorship_tag": "ABX9TyMLmcXwJr4Bjqn1TFiXre58"
    },
    "kernelspec": {
      "name": "python3",
      "display_name": "Python 3"
    },
    "language_info": {
      "name": "python"
    },
    "accelerator": "GPU"
  },
  "cells": [
    {
      "cell_type": "markdown",
      "source": [
        "**Problem Statement**\n",
        "\n",
        "\n",
        "Predict canada's per capita income in year 2020.\n",
        "Using 'canada_per_capita_income.csv' CSV file build a regression model and predict the per capita income of canadian citizens in year 2020"
      ],
      "metadata": {
        "id": "j6yLUdQOwgSY"
      }
    },
    {
      "cell_type": "code",
      "execution_count": 1,
      "metadata": {
        "id": "Q13hD-PgvBwx"
      },
      "outputs": [],
      "source": [
        "import pandas as pd\n",
        "import numpy as np\n",
        "from sklearn import linear_model\n",
        "import matplotlib.pyplot as plt"
      ]
    },
    {
      "cell_type": "code",
      "source": [
        "df = pd.read_csv(\"/content/drive/MyDrive/AI ML/Data/canada_per_capita_income.csv\")\n",
        "df.shape"
      ],
      "metadata": {
        "id": "4969AJZEymNj"
      },
      "execution_count": null,
      "outputs": []
    },
    {
      "cell_type": "code",
      "source": [
        "df.rename({'year' : 'year', 'per capita income (US$)' : 'income'},axis=\"columns\",inplace=True)"
      ],
      "metadata": {
        "id": "R7nu2KZy3c75"
      },
      "execution_count": 42,
      "outputs": []
    },
    {
      "cell_type": "markdown",
      "source": [
        "## Lets draw scatter plot to visualize **data**:\n",
        "\n",
        "\n",
        "\n",
        "\n",
        "\n"
      ],
      "metadata": {
        "id": "POQPO5Am__cj"
      }
    },
    {
      "cell_type": "code",
      "source": [
        "%matplotlib inline\n",
        "plt.xlabel('year per capita')\n",
        "plt.ylabel('income (US$)')\n",
        "plt.scatter(df.year,df.income,color='blue')"
      ],
      "metadata": {
        "id": "aGNsVrZAy5vi"
      },
      "execution_count": null,
      "outputs": []
    },
    {
      "cell_type": "markdown",
      "source": [
        "## Use linear regression model and fit train data"
      ],
      "metadata": {
        "id": "NmEeYGZ3AoQg"
      }
    },
    {
      "cell_type": "code",
      "source": [
        "reg = linear_model.LinearRegression()\n",
        "reg.fit(df[['year']],df.income)"
      ],
      "metadata": {
        "id": "YYpzYrzU_rVh"
      },
      "execution_count": null,
      "outputs": []
    },
    {
      "cell_type": "markdown",
      "source": [
        "Lets predict the per capita income of 2020 with our trained data"
      ],
      "metadata": {
        "id": "8ZyoYBsqBchf"
      }
    },
    {
      "cell_type": "code",
      "source": [
        "reg.predict([[2020]])"
      ],
      "metadata": {
        "id": "dNXYFbtaBRsE"
      },
      "execution_count": null,
      "outputs": []
    },
    {
      "cell_type": "code",
      "source": [
        "reg.coef_"
      ],
      "metadata": {
        "id": "W9sJb6JIB3r-"
      },
      "execution_count": null,
      "outputs": []
    },
    {
      "cell_type": "code",
      "source": [
        "reg.intercept_"
      ],
      "metadata": {
        "id": "gfmsJIcIB32z"
      },
      "execution_count": null,
      "outputs": []
    },
    {
      "cell_type": "markdown",
      "source": [
        "## Lets check the predicted income is correct or not by using equation"
      ],
      "metadata": {
        "id": "dcHS4FAhB-7w"
      }
    },
    {
      "cell_type": "markdown",
      "source": [
        "# Y = m * x +b"
      ],
      "metadata": {
        "id": "dgCM4HC1CJ9O"
      }
    },
    {
      "cell_type": "code",
      "source": [
        "y = 2020 * 828.46507522 + (-1632210.7578554575)"
      ],
      "metadata": {
        "id": "VjIUVR3hCGnS"
      },
      "execution_count": 51,
      "outputs": []
    },
    {
      "cell_type": "code",
      "source": [
        "y"
      ],
      "metadata": {
        "colab": {
          "base_uri": "https://localhost:8080/"
        },
        "id": "JPQNdN46Cec8",
        "outputId": "38ed1515-9080-45fd-be62-8663345ce191"
      },
      "execution_count": 52,
      "outputs": [
        {
          "output_type": "execute_result",
          "data": {
            "text/plain": [
              "41288.694088942604"
            ]
          },
          "metadata": {},
          "execution_count": 52
        }
      ]
    },
    {
      "cell_type": "markdown",
      "source": [
        "## Generate CSV file with prediction of income per capita by read years from CSV file."
      ],
      "metadata": {
        "id": "Vj-rIxhBCoff"
      }
    },
    {
      "cell_type": "code",
      "source": [
        "new_df = df.drop('income',axis='columns')\n",
        "new_df"
      ],
      "metadata": {
        "id": "q0-U0CPJC_xG"
      },
      "execution_count": null,
      "outputs": []
    },
    {
      "cell_type": "code",
      "source": [
        "# read csv with given years\n",
        "new_df.to_csv(\"/content/drive/MyDrive/AI ML/Data/years.csv\")"
      ],
      "metadata": {
        "id": "3vHsW_8lDtu-"
      },
      "execution_count": 54,
      "outputs": []
    },
    {
      "cell_type": "code",
      "source": [
        "income_df = pd.read_csv(\"/content/drive/MyDrive/AI ML/Data/years.csv\")\n",
        "income_df.head(3)\n",
        "#income_df.drop('Unnamed',axis='columns')"
      ],
      "metadata": {
        "id": "VEnyRSKvFFmD"
      },
      "execution_count": null,
      "outputs": []
    },
    {
      "cell_type": "code",
      "source": [],
      "metadata": {
        "id": "KkFmdxkUHRsc"
      },
      "execution_count": null,
      "outputs": []
    },
    {
      "cell_type": "code",
      "source": [
        "result = reg.predict(income_df[['year']])\n",
        "income_df['per capita income (US$)']=result\n",
        "result"
      ],
      "metadata": {
        "id": "ChrzTsvtFUgx"
      },
      "execution_count": null,
      "outputs": []
    },
    {
      "cell_type": "code",
      "source": [
        "income_df.to_csv(\"/content/drive/MyDrive/AI ML/Data/prediction.csv\")"
      ],
      "metadata": {
        "id": "KfpXZMlFJIhh"
      },
      "execution_count": 69,
      "outputs": []
    }
  ]
}