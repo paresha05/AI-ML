{
  "nbformat": 4,
  "nbformat_minor": 0,
  "metadata": {
    "colab": {
      "provenance": [],
      "gpuType": "T4",
      "mount_file_id": "1IsDTUo2pv0xw97k6GKMluy4eYPO4BQCe",
      "authorship_tag": "ABX9TyPJEHVTAf7zptFp4AGrCN4S"
    },
    "kernelspec": {
      "name": "python3",
      "display_name": "Python 3"
    },
    "language_info": {
      "name": "python"
    },
    "accelerator": "GPU"
  },
  "cells": [
    {
      "cell_type": "markdown",
      "source": [
        "**Problem Statement**\n",
        "\n",
        "\n",
        "Predict canada's per capita income in year 2020.\n",
        "Using 'canada_per_capita_income.csv' CSV file build a regression model and predict the per capita income of canadian citizens in year 2020"
      ],
      "metadata": {
        "id": "j6yLUdQOwgSY"
      }
    },
    {
      "cell_type": "code",
      "execution_count": null,
      "metadata": {
        "id": "Q13hD-PgvBwx"
      },
      "outputs": [],
      "source": []
    }
  ]
}