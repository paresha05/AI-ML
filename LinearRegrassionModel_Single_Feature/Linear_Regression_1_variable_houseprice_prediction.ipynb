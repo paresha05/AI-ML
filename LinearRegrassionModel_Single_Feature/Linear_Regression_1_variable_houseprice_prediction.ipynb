{
  "cells": [
    {
      "cell_type": "code",
      "execution_count": 55,
      "metadata": {
        "id": "6GvF_Z3BZkO-"
      },
      "outputs": [],
      "source": [
        "import pandas as pd\n",
        "import numpy as np\n",
        "import matplotlib.pyplot as plt\n",
        "from sklearn.linear_model import LinearRegression"
      ]
    },
    {
      "cell_type": "code",
      "execution_count": 6,
      "metadata": {
        "id": "bsB5zaj_oPRb"
      },
      "outputs": [],
      "source": [
        "df = pd.read_csv(\"/Data/homeprices.csv\")"
      ]
    },
    {
      "cell_type": "code",
      "execution_count": 50,
      "metadata": {
        "id": "Q0I6KVXKeHcg"
      },
      "outputs": [],
      "source": [
        "area=df.area.values.reshape(-1,1)\n",
        "price= df.price.values.reshape(-1,1)"
      ]
    },
    {
      "cell_type": "code",
      "execution_count": null,
      "metadata": {
        "id": "17swcuhjcSPT"
      },
      "outputs": [],
      "source": [
        "area"
      ]
    },
    {
      "cell_type": "code",
      "execution_count": null,
      "metadata": {
        "id": "8UFl85TMgKHL"
      },
      "outputs": [],
      "source": [
        "#draw a scatter plot\n",
        "%matplotlib inline\n",
        "plt.xlabel('area(sqr ft)')\n",
        "plt.ylabel('price(US$)')\n",
        "plt.scatter(df.area,df.price,color='red',marker='+')"
      ]
    },
    {
      "cell_type": "code",
      "execution_count": 56,
      "metadata": {
        "id": "vx1HDa12j0aO"
      },
      "outputs": [],
      "source": [
        "reg = LinearRegression()\n"
      ]
    },
    {
      "cell_type": "code",
      "execution_count": null,
      "metadata": {
        "id": "3HrW1PmQaGC_"
      },
      "outputs": [],
      "source": [
        "df[['price']]"
      ]
    },
    {
      "cell_type": "code",
      "execution_count": null,
      "metadata": {
        "id": "zw2U1sYKaCBO"
      },
      "outputs": [],
      "source": [
        "reg.fit(area,price)"
      ]
    },
    {
      "cell_type": "code",
      "execution_count": null,
      "metadata": {
        "id": "3e1tkA4Dmu-h"
      },
      "outputs": [],
      "source": [
        "reg.predict([[5000]])"
      ]
    },
    {
      "cell_type": "code",
      "execution_count": null,
      "metadata": {
        "id": "eR5TM2nZc9a1"
      },
      "outputs": [],
      "source": [
        "reg.coef_"
      ]
    },
    {
      "cell_type": "code",
      "execution_count": null,
      "metadata": {
        "id": "NKQ8i7pZdD2E"
      },
      "outputs": [],
      "source": [
        "reg.intercept_"
      ]
    },
    {
      "cell_type": "code",
      "execution_count": null,
      "metadata": {
        "id": "uW6oa97idItL"
      },
      "outputs": [],
      "source": [
        "#y=m*x+b        calculate how model predict actual price\n",
        "135.78767123*5000+180616.43835616"
      ]
    },
    {
      "cell_type": "code",
      "execution_count": 66,
      "metadata": {
        "id": "dFvQIKXHfCcb"
      },
      "outputs": [],
      "source": [
        "# lets find prices of all areas mentioned in csv using model passing each area one by one\n",
        "\n",
        "#read csv\n",
        "df_area = pd.read_csv(\"/Data/areas.csv\")"
      ]
    },
    {
      "cell_type": "code",
      "execution_count": null,
      "metadata": {
        "id": "GXwo8T-2fgj2"
      },
      "outputs": [],
      "source": [
        "#save predicted price value in variable\n",
        "pedicted_price = reg.predict(df_area)"
      ]
    },
    {
      "cell_type": "code",
      "execution_count": 71,
      "metadata": {
        "id": "_gykZ-ifgJaW"
      },
      "outputs": [],
      "source": [
        "# create new 'price' column in areas.csv and save csv\n",
        "df_area['price'] = pedicted_price\n",
        "df_area.to_csv(\"/Data/predicted_prices.csv\",index=False)"
      ]
    }
  ],
  "metadata": {
    "accelerator": "GPU",
    "colab": {
      "authorship_tag": "ABX9TyMJqpdi7wktvHrC1TQt/nEg",
      "gpuType": "T4",
      "mount_file_id": "1zsuYHTb2Pm8AQuBuO3KnI2M_kfIQ-rSp",
      "provenance": []
    },
    "kernelspec": {
      "display_name": "Python 3",
      "name": "python3"
    },
    "language_info": {
      "name": "python"
    }
  },
  "nbformat": 4,
  "nbformat_minor": 0
}
