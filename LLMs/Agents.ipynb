{
  "nbformat": 4,
  "nbformat_minor": 0,
  "metadata": {
    "colab": {
      "provenance": []
    },
    "kernelspec": {
      "name": "python3",
      "display_name": "Python 3"
    },
    "language_info": {
      "name": "python"
    }
  },
  "cells": [
    {
      "cell_type": "markdown",
      "source": [
        "# Agents and Tools\n",
        "\n",
        "Agents involve an LLM making decisions about which Actions to take, taking that Action, seeing an Observation, and repeating that until done.\n",
        "\n",
        "\n",
        "When used correctly agents can be extremely powerful. In order to load agents, you should understand the following concepts:\n",
        "\n",
        "- Tool: A function that performs a specific duty. This can be things like: Google Search, Database lookup, Python REPL, other chains.\n",
        "- LLM: The language model powering the agent.\n",
        "- Agent: The agent to use.\n"
      ],
      "metadata": {
        "id": "cKIei5hNci1E"
      }
    },
    {
      "cell_type": "markdown",
      "source": [
        "For example I have to travel from Dubai to Canada, I type this in ChatGPT\n",
        "\n",
        "Give me two flight options from Dubai to Canada on September 1, 2024 | ChatGPT will not be able to answer because has knowledge till\n",
        "September 2021\n",
        "\n",
        "ChatGPT plus has Expedia Plugin, if we enable this plugin it will go to Expedia Plugin and will try to pull information about Flights & it will show the information"
      ],
      "metadata": {
        "id": "G4U4PWTkdPxX"
      }
    },
    {
      "cell_type": "markdown",
      "source": [
        "When we think about LLM. Many people think that it is just a knowledge engine, it has knowledge and it will try to give answer based on that knowledge but the knowledge is only limited to September 2021. The think that most people missout is that Large Lanaguage Model has a reasoning engine, and using that reasoning engine it can figure out when someone types this type of Question\n",
        "\n",
        "\n",
        "Give me  two flight options from Dubai to Canada on September 1, 2024\n",
        "\n",
        "\n",
        "As a human we go to Expedia as we have a reasoning engine in our brain.\n",
        "\n",
        "LLM has a reasoning engine as well, so it will figure out the Source, Destination, Date and it will call Expedia Plugin and it will return response back."
      ],
      "metadata": {
        "id": "ciLN5bFed6Xx"
      }
    },
    {
      "cell_type": "markdown",
      "source": [
        "#**How much is US GDP in 2024? plus 5**\n"
      ],
      "metadata": {
        "id": "43YM_ip-eYhu"
      }
    },
    {
      "cell_type": "markdown",
      "source": [
        "# Agent will conenct with external tools and it will use LLM reasoning capabilities"
      ],
      "metadata": {
        "id": "iD2IcVHEelhs"
      }
    },
    {
      "cell_type": "markdown",
      "source": [
        "# To access Google Search Results in Real Time we use serpapi"
      ],
      "metadata": {
        "id": "GemVEsOWetK3"
      }
    },
    {
      "cell_type": "markdown",
      "source": [
        "# serpapi and llm-math tool"
      ],
      "metadata": {
        "id": "9vNfiY0BezFn"
      }
    },
    {
      "cell_type": "code",
      "source": [
        "!pip install google-search-results"
      ],
      "metadata": {
        "id": "SPbtEBhAclBj"
      },
      "execution_count": null,
      "outputs": []
    },
    {
      "cell_type": "code",
      "source": [
        "!pip install langchain"
      ],
      "metadata": {
        "id": "VBQywOfvg0yE"
      },
      "execution_count": null,
      "outputs": []
    },
    {
      "cell_type": "code",
      "source": [
        "!pip install -U langchain-community"
      ],
      "metadata": {
        "id": "M9ypcZ15hFGS"
      },
      "execution_count": null,
      "outputs": []
    },
    {
      "cell_type": "code",
      "source": [
        "%pip install -qU langchain-openai"
      ],
      "metadata": {
        "id": "MJzCkEgRhX0N"
      },
      "execution_count": null,
      "outputs": []
    },
    {
      "cell_type": "code",
      "source": [
        "import os"
      ],
      "metadata": {
        "id": "GgLJxty_fFXI"
      },
      "execution_count": null,
      "outputs": []
    },
    {
      "cell_type": "code",
      "source": [
        "os.environ[\"SERPAPI_API_KEY\"]='fc00bae5ada1188e2edcb51aadea4b6a6ff7dad69dc5fcd4260ddba892547851'"
      ],
      "metadata": {
        "id": "FAq1ZjvRfNKQ"
      },
      "execution_count": null,
      "outputs": []
    },
    {
      "cell_type": "code",
      "source": [
        "from google.colab import userdata\n",
        "OPENAI_API_KEY=userdata.get('OPENAI_API_KEY')"
      ],
      "metadata": {
        "id": "xRAXfxGQfpfk"
      },
      "execution_count": null,
      "outputs": []
    },
    {
      "cell_type": "code",
      "source": [
        "os.environ[\"OPENAI_API_KEY\"]=OPENAI_API_KEY"
      ],
      "metadata": {
        "id": "foyRFOpefQ-r"
      },
      "execution_count": null,
      "outputs": []
    },
    {
      "cell_type": "code",
      "source": [
        "from langchain.agents import AgentType,initialize_agent, load_tools"
      ],
      "metadata": {
        "id": "fjTgzatZfwKp"
      },
      "execution_count": null,
      "outputs": []
    },
    {
      "cell_type": "code",
      "source": [
        "from langchain_openai import ChatOpenAI"
      ],
      "metadata": {
        "id": "nwC9xx0hhclz"
      },
      "execution_count": null,
      "outputs": []
    },
    {
      "cell_type": "code",
      "source": [
        "llm = ChatOpenAI(\n",
        "    model=\"gpt-3.5-turbo\",\n",
        "    temperature=0)"
      ],
      "metadata": {
        "id": "yztdA8lDgyMR"
      },
      "execution_count": null,
      "outputs": []
    },
    {
      "cell_type": "code",
      "source": [
        "tool = load_tools([\"serpapi\",\"llm-math\"],llm=llm)"
      ],
      "metadata": {
        "id": "sSL8xs1Fh116"
      },
      "execution_count": null,
      "outputs": []
    },
    {
      "cell_type": "code",
      "source": [
        "agent1 = initialize_agent(tool, llm, agent= AgentType.ZERO_SHOT_REACT_DESCRIPTION, verbose= True)"
      ],
      "metadata": {
        "id": "lmzM85ifitRa"
      },
      "execution_count": null,
      "outputs": []
    },
    {
      "cell_type": "code",
      "source": [
        "agent1.run(\"How much is US GDP in 2024 plus 5?\")"
      ],
      "metadata": {
        "id": "qIOmEBh1jVwL"
      },
      "execution_count": null,
      "outputs": []
    },
    {
      "cell_type": "code",
      "source": [
        "agent1.run(\"in which year indian team won its second world cup give me all the player name of the winning team??\")"
      ],
      "metadata": {
        "id": "ETm7HdAgmwKM"
      },
      "execution_count": null,
      "outputs": []
    },
    {
      "cell_type": "code",
      "source": [
        "agent.run(\"How much is india GDP in 2024 plus 5?\")"
      ],
      "metadata": {
        "id": "ncLd_nkBjnjy"
      },
      "execution_count": null,
      "outputs": []
    },
    {
      "cell_type": "code",
      "source": [
        "agent.run(\"who won the india's 2024 general election?\")"
      ],
      "metadata": {
        "id": "1AC-GjCpj8hx"
      },
      "execution_count": null,
      "outputs": []
    },
    {
      "cell_type": "code",
      "source": [
        "agent.run(\"how much seat BJP won in india's general election in 2024 plus 10000?\")"
      ],
      "metadata": {
        "id": "7azOOy7JkSci"
      },
      "execution_count": null,
      "outputs": []
    },
    {
      "cell_type": "code",
      "source": [
        "!pip install wikipedia"
      ],
      "metadata": {
        "id": "UFyTcG9tkj1h"
      },
      "execution_count": null,
      "outputs": []
    },
    {
      "cell_type": "code",
      "source": [
        "tool = load_tools([\"wikipedia\",\"llm-math\"],llm=llm)"
      ],
      "metadata": {
        "id": "cMGuYUREl5dS"
      },
      "execution_count": null,
      "outputs": []
    },
    {
      "cell_type": "code",
      "source": [
        "agent = initialize_agent(\n",
        "    tool,\n",
        "    llm,\n",
        "    agent=AgentType.ZERO_SHOT_REACT_DESCRIPTION,\n",
        "    verbose=True,\n",
        "\n",
        ")"
      ],
      "metadata": {
        "id": "vpNgOgGzmBaI"
      },
      "execution_count": null,
      "outputs": []
    },
    {
      "cell_type": "code",
      "source": [
        "agent.run(\"in which year first indian film released?\")"
      ],
      "metadata": {
        "id": "s4BIaFK9mJ1h"
      },
      "execution_count": null,
      "outputs": []
    },
    {
      "cell_type": "code",
      "source": [
        "agent.run(\"give me a detail analysis of indian election 2024\")"
      ],
      "metadata": {
        "id": "m-RfF1F7mc9E"
      },
      "execution_count": null,
      "outputs": []
    },
    {
      "cell_type": "markdown",
      "source": [
        "The 2024 Indian general election was held in seven phases from 19 April to 1 June 2024 to elect all 543 members of the Lok Sabha. Narendra Modi secured his third term as prime minister, leading a coalition government with the support of 293 MPs. The election saw a record number of eligible voters and high participation, with the BJP losing its majority in the Lok Sabha."
      ],
      "metadata": {
        "id": "0FaL0s_pnVm2"
      }
    },
    {
      "cell_type": "code",
      "source": [],
      "metadata": {
        "id": "088elPVvnSU6"
      },
      "execution_count": null,
      "outputs": []
    }
  ]
}