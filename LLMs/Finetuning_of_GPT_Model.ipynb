{
  "nbformat": 4,
  "nbformat_minor": 0,
  "metadata": {
    "colab": {
      "provenance": []
    },
    "kernelspec": {
      "name": "python3",
      "display_name": "Python 3"
    },
    "language_info": {
      "name": "python"
    }
  },
  "cells": [
    {
      "cell_type": "code",
      "execution_count": null,
      "metadata": {
        "id": "lTr2zZQFKUBQ"
      },
      "outputs": [],
      "source": [
        "{\"messages\": [{\"role\": \"system\", \"content\": \"Marv is a factual chatbot that is also sarcastic.\"}, {\"role\": \"user\", \"content\": \"What's the capital of France?\"}, {\"role\": \"assistant\", \"content\": \"Paris, as if everyone doesn't know that already.\"}]}\n",
        "{\"messages\": [{\"role\": \"system\", \"content\": \"Marv is a factual chatbot that is also sarcastic.\"}, {\"role\": \"user\", \"content\": \"Who wrote 'Romeo and Juliet'?\"}, {\"role\": \"assistant\", \"content\": \"Oh, just some guy named William Shakespeare. Ever heard of him?\"}]}\n",
        "{\"messages\": [{\"role\": \"system\", \"content\": \"Marv is a factual chatbot that is also sarcastic.\"}, {\"role\": \"user\", \"content\": \"How far is the Moon from Earth?\"}, {\"role\": \"assistant\", \"content\": \"Around 384,400 kilometers. Give or take a few, like that really matters.\"}]}"
      ]
    },
    {
      "cell_type": "code",
      "source": [
        "\"\"\"system\n",
        "user\n",
        "assistant\"\"\""
      ],
      "metadata": {
        "id": "uce_AtjsMVbP"
      },
      "execution_count": null,
      "outputs": []
    },
    {
      "cell_type": "code",
      "source": [
        "!pip install openai"
      ],
      "metadata": {
        "id": "K_CkJye0M_-u"
      },
      "execution_count": null,
      "outputs": []
    },
    {
      "cell_type": "code",
      "source": [
        "from google.colab import userdata\n",
        "OPENAI_API_KEY=userdata.get('OPENAI_API_KEY')"
      ],
      "metadata": {
        "id": "xQBch3UWNN65"
      },
      "execution_count": null,
      "outputs": []
    },
    {
      "cell_type": "code",
      "source": [
        "from openai import OpenAI\n",
        "client = OpenAI(api_key=OPENAI_API_KEY)"
      ],
      "metadata": {
        "id": "fknWrNoxNAFU"
      },
      "execution_count": null,
      "outputs": []
    },
    {
      "cell_type": "code",
      "source": [
        "client.files.create(\n",
        "  file=open(\"mydata.jsonl\", \"rb\"),\n",
        "  purpose=\"fine-tune\"\n",
        ")"
      ],
      "metadata": {
        "id": "jFdwOZomMdTj"
      },
      "execution_count": null,
      "outputs": []
    },
    {
      "cell_type": "code",
      "source": [
        "files = client.files.list()"
      ],
      "metadata": {
        "id": "ms1leDCvQNMp"
      },
      "execution_count": null,
      "outputs": []
    },
    {
      "cell_type": "code",
      "source": [
        "files"
      ],
      "metadata": {
        "id": "OWo_EQwBQN3k"
      },
      "execution_count": null,
      "outputs": []
    },
    {
      "cell_type": "code",
      "source": [
        "for file in files:\n",
        "    if file.purpose == \"fine-tune\":\n",
        "        training_file_id = file.id\n",
        "        break"
      ],
      "metadata": {
        "id": "dBQIZbSaQSOs"
      },
      "execution_count": null,
      "outputs": []
    },
    {
      "cell_type": "code",
      "source": [
        "training_file_id"
      ],
      "metadata": {
        "id": "b60v0fyOQWDq"
      },
      "execution_count": null,
      "outputs": []
    },
    {
      "cell_type": "code",
      "source": [
        "client.fine_tuning.jobs.create(\n",
        "    training_file=training_file_id,\n",
        "    model=\"gpt-3.5-turbo\"\n",
        ")"
      ],
      "metadata": {
        "id": "0Kc6g0PNQMJg"
      },
      "execution_count": null,
      "outputs": []
    },
    {
      "cell_type": "code",
      "source": [
        "client.fine_tuning.jobs.list()"
      ],
      "metadata": {
        "id": "y5KAQKI9ObzU"
      },
      "execution_count": null,
      "outputs": []
    },
    {
      "cell_type": "code",
      "source": [
        "client.fine_tuning.jobs.retrieve(\"ftjob-QHPvVr4IMBVq0SIUOJK4byBz\")"
      ],
      "metadata": {
        "id": "59wgSPwgQwJJ"
      },
      "execution_count": null,
      "outputs": []
    },
    {
      "cell_type": "code",
      "source": [
        "completion = client.chat.completions.create(\n",
        "  model=\"gpt-3.5-turbo-0125\",\n",
        "  messages=[\n",
        "    {\"role\": \"system\", \"content\": \"You are a helpful assistant.\"},\n",
        "    {\"role\": \"user\", \"content\": \"Hello!\"}\n",
        "  ]\n",
        ")\n",
        "print(completion.choices[0].message)"
      ],
      "metadata": {
        "id": "T6XklRETQ0q4"
      },
      "execution_count": null,
      "outputs": []
    },
    {
      "cell_type": "code",
      "source": [
        "import json\n",
        "import csv\n",
        "\n",
        "\n",
        "# Replace 'your_path_here' with the path to the directory containing your file on Google Drive.\n",
        "# Make sure to keep '/content/drive/My Drive/' at the beginning.\n",
        "\n",
        "path_to_file = '/content/parenting_coach1.csv'\n",
        "output_path = '/content/parenting_coach1.jsonl'\n",
        "\n",
        "# Open the CSV file and read each line\n",
        "with open(path_to_file, 'r', newline='', encoding='utf-8') as csv_file:\n",
        "    csv_reader = csv.reader(csv_file)\n",
        "\n",
        "    with open(output_path, 'w', encoding='utf-8') as jsonl_file:\n",
        "        for row in csv_reader:\n",
        "            json_str = row[0]\n",
        "            json_obj = json.loads(json_str)\n",
        "            jsonl_file.write(json.dumps(json_obj) + '\\n')\n",
        "\n",
        "print(f\"Conversion complete. The JSONL file is saved as '{output_path}'.\")\n"
      ],
      "metadata": {
        "id": "n3G6lJKfS0nq"
      },
      "execution_count": null,
      "outputs": []
    },
    {
      "cell_type": "code",
      "source": [
        "client.files.create(\n",
        "  file=open(\"/content/parenting_coach1.jsonl\", \"rb\"),\n",
        "  purpose=\"fine-tune\"\n",
        ")"
      ],
      "metadata": {
        "id": "QIndH3TVTmrK"
      },
      "execution_count": null,
      "outputs": []
    },
    {
      "cell_type": "code",
      "source": [
        "suffix_name = \"abc123\"\n",
        "response=client.fine_tuning.jobs.create(\n",
        "    training_file='file-n8b1hgGcRpVnXxkKgzwynThB',\n",
        "    model=\"gpt-3.5-turbo\",\n",
        "    suffix=suffix_name\n",
        ")\n"
      ],
      "metadata": {
        "id": "7h_q4d08TvGO"
      },
      "execution_count": null,
      "outputs": []
    },
    {
      "cell_type": "code",
      "source": [
        "job_id = response[\"id\"]"
      ],
      "metadata": {
        "id": "uPLdUz8LnygE"
      },
      "execution_count": null,
      "outputs": []
    },
    {
      "cell_type": "code",
      "source": [
        "response"
      ],
      "metadata": {
        "id": "54ILLZRMn1xx"
      },
      "execution_count": null,
      "outputs": []
    },
    {
      "cell_type": "code",
      "source": [
        "client.fine_tuning.jobs.list()"
      ],
      "metadata": {
        "id": "oPyUfgQsT4rH"
      },
      "execution_count": null,
      "outputs": []
    },
    {
      "cell_type": "code",
      "source": [
        "# Retrieve the state of a fine-tune\n",
        "response=client.fine_tuning.jobs.retrieve('ftjob-SgXfk2q90cvgzebEnzIsNPlq')"
      ],
      "metadata": {
        "id": "UBtbT0ajoQCk"
      },
      "execution_count": null,
      "outputs": []
    },
    {
      "cell_type": "code",
      "source": [
        "response.fine_tuned_model"
      ],
      "metadata": {
        "id": "dszMwV0gpAmY"
      },
      "execution_count": null,
      "outputs": []
    },
    {
      "cell_type": "code",
      "source": [
        "fine_tuned_model_id = response[\"fine_tuned_model\"]"
      ],
      "metadata": {
        "id": "1OlXW9LmofTv"
      },
      "execution_count": null,
      "outputs": []
    },
    {
      "cell_type": "code",
      "source": [
        "#retrieve fine-tune model id\n",
        "response = openai.FineTuningJob.retrieve()\n",
        "fine_tuned_model_id = response[\"fine_tuned_model\"]"
      ],
      "metadata": {
        "id": "v25H9DuFoOJm"
      },
      "execution_count": null,
      "outputs": []
    },
    {
      "cell_type": "code",
      "source": [
        "completion = client.chat.completions.create(\n",
        "  model='gpt-3.5-turbo-0125',\n",
        "  messages=[\n",
        "    {\"role\": \"system\", \"content\": \"You are a helpful assistant.\"},\n",
        "    {\"role\": \"user\", \"content\": \"my son does not do the homework what should i do?\"}\n",
        "  ]\n",
        ")\n",
        "print(completion.choices[0].message)"
      ],
      "metadata": {
        "id": "Z1sBpui9T9LP"
      },
      "execution_count": null,
      "outputs": []
    },
    {
      "cell_type": "code",
      "source": [
        "!pip show openai"
      ],
      "metadata": {
        "id": "9gawSzfSUd3Y"
      },
      "execution_count": null,
      "outputs": []
    },
    {
      "cell_type": "code",
      "source": [
        "import json\n",
        "import pandas as pd\n",
        "\n",
        "DEFAULT_SYSTEM_PROMPT = 'You are a teaching assistant for Machine Learning. You should help the user to answer his question.'\n",
        "\n",
        "def create_dataset(question, answer):\n",
        "    return {\n",
        "        \"messages\": [\n",
        "            {\"role\": \"system\", \"content\": DEFAULT_SYSTEM_PROMPT},\n",
        "            {\"role\": \"user\", \"content\": question},\n",
        "            {\"role\": \"assistant\", \"content\": answer},\n",
        "        ]\n",
        "    }\n",
        "\n",
        "if __name__ == \"__main__\":\n",
        "    df = pd.read_csv(\"path/to/file.csv\", encoding='cp1252')\n",
        "    with open(\"train.jsonl\", \"w\") as f:\n",
        "        for _, row in df.iterrows():\n",
        "            example_str = json.dumps(create_dataset(row[\"Question\"], row[\"Answer\"]))\n",
        "            f.write(example_str + \"\\n\")\n"
      ],
      "metadata": {
        "id": "_4cf7Ja8VJlJ"
      },
      "execution_count": null,
      "outputs": []
    },
    {
      "cell_type": "code",
      "source": [
        "file = client.files.create(\n",
        "  file=open(\"/content/parenting_coach1.jsonl\", \"rb\"),\n",
        "  purpose=\"fine-tune\"\n",
        ")\n",
        "\n"
      ],
      "metadata": {
        "id": "vbZMJu6sp7z0"
      },
      "execution_count": null,
      "outputs": []
    },
    {
      "cell_type": "code",
      "source": [
        "job = client.fine_tuning.jobs.create(\n",
        "  training_file=file.id,\n",
        "  model=\"gpt-3.5-turbo\"\n",
        ")"
      ],
      "metadata": {
        "id": "wsWWgykGqFvw"
      },
      "execution_count": null,
      "outputs": []
    },
    {
      "cell_type": "code",
      "source": [
        "file.id"
      ],
      "metadata": {
        "id": "bLSSWgmHqRsp"
      },
      "execution_count": null,
      "outputs": []
    },
    {
      "cell_type": "code",
      "source": [
        "job.id"
      ],
      "metadata": {
        "id": "osA8GBCwqV5y"
      },
      "execution_count": null,
      "outputs": []
    },
    {
      "cell_type": "code",
      "source": [
        "job = client.fine_tuning.jobs.retrieve(job.id)\n"
      ],
      "metadata": {
        "id": "875tcLc3qB-8"
      },
      "execution_count": null,
      "outputs": []
    },
    {
      "cell_type": "code",
      "source": [
        "job.fine_tuned_model"
      ],
      "metadata": {
        "id": "aYTAdAIeqZpP"
      },
      "execution_count": null,
      "outputs": []
    },
    {
      "cell_type": "code",
      "source": [
        "completion = client.chat.completions.create(\n",
        "  model=job.fine_tuned_model,\n",
        "  messages=[\n",
        "    {\"role\": \"system\", \"content\": \"You are a helpful assistant.\"},\n",
        "    {\"role\": \"user\", \"content\": \"how to fix email issue\"}\n",
        "  ]\n",
        ")\n",
        "print(completion.choices[0].message)\n"
      ],
      "metadata": {
        "id": "q0gADIzlqNO5"
      },
      "execution_count": null,
      "outputs": []
    },
    {
      "cell_type": "code",
      "source": [],
      "metadata": {
        "id": "Pusng9suqelW"
      },
      "execution_count": null,
      "outputs": []
    }
  ]
}