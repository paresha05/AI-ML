{
  "nbformat": 4,
  "nbformat_minor": 0,
  "metadata": {
    "colab": {
      "provenance": [],
      "gpuType": "T4"
    },
    "kernelspec": {
      "name": "python3",
      "display_name": "Python 3"
    },
    "language_info": {
      "name": "python"
    },
    "accelerator": "GPU"
  },
  "cells": [
    {
      "cell_type": "code",
      "execution_count": null,
      "metadata": {
        "id": "L1-5cYCKA4XS"
      },
      "outputs": [],
      "source": [
        "!pip install datasets pandas pymongo sentence_transformers"
      ]
    },
    {
      "cell_type": "code",
      "source": [
        "!pip install -U transformers accelerate"
      ],
      "metadata": {
        "id": "M6NY-e6rBSc-"
      },
      "execution_count": null,
      "outputs": []
    },
    {
      "cell_type": "code",
      "source": [
        "from datasets import load_dataset"
      ],
      "metadata": {
        "id": "a4Jz416BBa24"
      },
      "execution_count": null,
      "outputs": []
    },
    {
      "cell_type": "code",
      "source": [
        "import pandas as pd"
      ],
      "metadata": {
        "id": "GfCrKhm4Bo6A"
      },
      "execution_count": null,
      "outputs": []
    },
    {
      "cell_type": "code",
      "source": [
        "dataset=load_dataset(\"AIatMongoDB/embedded_movies\")"
      ],
      "metadata": {
        "id": "E-nODsvZBrdF"
      },
      "execution_count": null,
      "outputs": []
    },
    {
      "cell_type": "code",
      "source": [
        "dataset"
      ],
      "metadata": {
        "id": "3wk5EYTxCAZf"
      },
      "execution_count": null,
      "outputs": []
    },
    {
      "cell_type": "code",
      "source": [
        "dataset_df=pd.DataFrame(dataset[\"train\"])"
      ],
      "metadata": {
        "id": "xltqOeu6COVW"
      },
      "execution_count": null,
      "outputs": []
    },
    {
      "cell_type": "code",
      "source": [
        "dataset_df.head()"
      ],
      "metadata": {
        "id": "waeeI5UTCS3H"
      },
      "execution_count": null,
      "outputs": []
    },
    {
      "cell_type": "code",
      "source": [
        "dataset_df.columns"
      ],
      "metadata": {
        "id": "Zjhr9tDmDaLK"
      },
      "execution_count": null,
      "outputs": []
    },
    {
      "cell_type": "code",
      "source": [
        "dataset_df[\"plot\"][0]"
      ],
      "metadata": {
        "id": "LPF7YagwDdYp"
      },
      "execution_count": null,
      "outputs": []
    },
    {
      "cell_type": "code",
      "source": [
        "dataset_df[\"fullplot\"][0]"
      ],
      "metadata": {
        "id": "zXWsEeAEDqH5"
      },
      "execution_count": null,
      "outputs": []
    },
    {
      "cell_type": "code",
      "source": [
        "dataset_df[\"num_mflix_comments\"][0]"
      ],
      "metadata": {
        "id": "d8_96aRXErjt"
      },
      "execution_count": null,
      "outputs": []
    },
    {
      "cell_type": "code",
      "source": [
        "dataset_df[o\"fullplt\"].isnull().sum()"
      ],
      "metadata": {
        "id": "kvtEJnEFD_Xz"
      },
      "execution_count": null,
      "outputs": []
    },
    {
      "cell_type": "code",
      "source": [
        "dataset_df.shape"
      ],
      "metadata": {
        "id": "Xxx5lbXnEHma"
      },
      "execution_count": null,
      "outputs": []
    },
    {
      "cell_type": "code",
      "source": [
        "dataset_df[\"poster\"][0]"
      ],
      "metadata": {
        "id": "dey3wEVxETOs"
      },
      "execution_count": null,
      "outputs": []
    },
    {
      "cell_type": "code",
      "source": [
        "dataset_df[\"plot_embedding\"][0]"
      ],
      "metadata": {
        "id": "DgU4k-45DxCs"
      },
      "execution_count": null,
      "outputs": []
    },
    {
      "cell_type": "code",
      "source": [
        "dataset_df.isnull().sum()"
      ],
      "metadata": {
        "id": "IjLSpkw9ChG3"
      },
      "execution_count": null,
      "outputs": []
    },
    {
      "cell_type": "code",
      "source": [
        "dataset_df=dataset_df.dropna(subset=[\"fullplot\"])"
      ],
      "metadata": {
        "id": "KGeAho8GDCSK"
      },
      "execution_count": null,
      "outputs": []
    },
    {
      "cell_type": "code",
      "source": [
        "dataset_df[\"fullplot\"].isnull().sum()"
      ],
      "metadata": {
        "id": "5TFDYus1FQTn"
      },
      "execution_count": null,
      "outputs": []
    },
    {
      "cell_type": "code",
      "source": [
        "dataset_df = dataset_df.drop(columns=[\"plot_embedding\"])"
      ],
      "metadata": {
        "id": "9ANR6TtxFVZe"
      },
      "execution_count": null,
      "outputs": []
    },
    {
      "cell_type": "code",
      "source": [
        "dataset_df.head(2)"
      ],
      "metadata": {
        "id": "abCIIPGXFhU_"
      },
      "execution_count": null,
      "outputs": []
    },
    {
      "source": [
        "# @title metacritic\n",
        "\n",
        "from matplotlib import pyplot as plt\n",
        "dataset_df['metacritic'].plot(kind='hist', bins=20, title='metacritic')\n",
        "plt.gca().spines[['top', 'right',]].set_visible(False)"
      ],
      "cell_type": "code",
      "execution_count": null,
      "outputs": [],
      "metadata": {
        "cellView": "form",
        "id": "kdqa7Mv8F3UI"
      }
    },
    {
      "cell_type": "code",
      "source": [
        "from sentence_transformers import SentenceTransformer\n",
        "embedding_model = SentenceTransformer(\"thenlper/gte-large\")"
      ],
      "metadata": {
        "id": "5XrEBgWmFjWe"
      },
      "execution_count": null,
      "outputs": []
    },
    {
      "cell_type": "code",
      "source": [
        "dataset_df[\"fullplot\"][2]"
      ],
      "metadata": {
        "id": "ayplIvvLGyk_"
      },
      "execution_count": null,
      "outputs": []
    },
    {
      "cell_type": "code",
      "source": [
        "text=\"   savita is  a data scientist who create prodcut of data\""
      ],
      "metadata": {
        "id": "5YCL4funHlqB"
      },
      "execution_count": null,
      "outputs": []
    },
    {
      "cell_type": "code",
      "source": [
        "text=\"   savita is  a data scientist who create prodcut of data     \"\n"
      ],
      "metadata": {
        "id": "zlLEC4-THzi9"
      },
      "execution_count": null,
      "outputs": []
    },
    {
      "cell_type": "code",
      "source": [
        "text"
      ],
      "metadata": {
        "id": "fXxPwQGCH2LM"
      },
      "execution_count": null,
      "outputs": []
    },
    {
      "cell_type": "code",
      "source": [
        "text.strip()"
      ],
      "metadata": {
        "id": "eVqlQFEXHtnK"
      },
      "execution_count": null,
      "outputs": []
    },
    {
      "cell_type": "code",
      "source": [
        "def get_embedding(text:str)->list[float]:\n",
        "\n",
        "  if not text.strip():\n",
        "    print(\"attempted to get embedding for empty text.\")\n",
        "    return []\n",
        "\n",
        "  embedding=embedding_model.encode(text)\n",
        "  return embedding.tolist()\n"
      ],
      "metadata": {
        "id": "Zge4b2p_HAV0"
      },
      "execution_count": null,
      "outputs": []
    },
    {
      "cell_type": "code",
      "source": [
        "dataset_df[\"embedding\"]=dataset_df[\"fullplot\"].apply(get_embedding)"
      ],
      "metadata": {
        "id": "mtLUR8QwIJcP"
      },
      "execution_count": null,
      "outputs": []
    },
    {
      "cell_type": "code",
      "source": [
        "dataset_df.head(3)"
      ],
      "metadata": {
        "id": "6guCtolpIWt5"
      },
      "execution_count": null,
      "outputs": []
    },
    {
      "cell_type": "code",
      "source": [
        "dataset_df[\"embedding\"][0]"
      ],
      "metadata": {
        "id": "CZb_dvesIlMY"
      },
      "execution_count": null,
      "outputs": []
    },
    {
      "cell_type": "code",
      "source": [
        "!python --version"
      ],
      "metadata": {
        "id": "gBa-qzx3RNdV"
      },
      "execution_count": null,
      "outputs": []
    },
    {
      "cell_type": "code",
      "source": [
        "import pymongo"
      ],
      "metadata": {
        "id": "kXbZFM5RIqYU"
      },
      "execution_count": null,
      "outputs": []
    },
    {
      "cell_type": "code",
      "source": [
        "!python -m pip install \"pymongo[srv]\"\n"
      ],
      "metadata": {
        "id": "xbEDquRoMrAx"
      },
      "execution_count": null,
      "outputs": []
    },
    {
      "cell_type": "code",
      "source": [
        "!pip list"
      ],
      "metadata": {
        "id": "tLn2zet6RbYU"
      },
      "execution_count": null,
      "outputs": []
    },
    {
      "cell_type": "code",
      "source": [
        "from pymongo.mongo_client import MongoClient"
      ],
      "metadata": {
        "id": "lNB6bSnNRmUy"
      },
      "execution_count": null,
      "outputs": []
    },
    {
      "cell_type": "code",
      "source": [
        "from google.colab import userdata\n",
        "uri=userdata.get('MONGO_URI')"
      ],
      "metadata": {
        "id": "GfV1Qe1YSX8f"
      },
      "execution_count": null,
      "outputs": []
    },
    {
      "cell_type": "code",
      "source": [
        "# Create a new client and connect to the server\n",
        "client = MongoClient(uri)"
      ],
      "metadata": {
        "id": "hIPRAlsRRq2v"
      },
      "execution_count": null,
      "outputs": []
    },
    {
      "cell_type": "code",
      "source": [
        "# Send a ping to confirm a successful connection\n",
        "try:\n",
        "    client.admin.command('ping')\n",
        "    print(\"Pinged your deployment. You successfully connected to MongoDB!\")\n",
        "except Exception as e:\n",
        "    print(e)"
      ],
      "metadata": {
        "id": "mInjJ-kLMvSV"
      },
      "execution_count": null,
      "outputs": []
    },
    {
      "cell_type": "code",
      "source": [
        "def get_mongo_client(uri):\n",
        "  try:\n",
        "    client = MongoClient(uri)\n",
        "    client.admin.command('ping')\n",
        "    print(\"Pinged your deployment. You successfully connected to MongoDB!\")\n",
        "    return client\n",
        "  except Exception as e:\n",
        "    print(e)\n",
        "    return None"
      ],
      "metadata": {
        "id": "pcrtipaDRtbm"
      },
      "execution_count": null,
      "outputs": []
    },
    {
      "cell_type": "code",
      "source": [
        "mongo_client=get_mongo_client(uri)"
      ],
      "metadata": {
        "id": "4LG9ETvISsHL"
      },
      "execution_count": null,
      "outputs": []
    },
    {
      "cell_type": "code",
      "source": [
        "db=mongo_client[\"moviedb\"]"
      ],
      "metadata": {
        "id": "Vl0eY7amTHje"
      },
      "execution_count": null,
      "outputs": []
    },
    {
      "cell_type": "code",
      "source": [
        "collection=db[\"moviecollection\"]"
      ],
      "metadata": {
        "id": "TPTjqFyZUGwc"
      },
      "execution_count": null,
      "outputs": []
    },
    {
      "cell_type": "code",
      "source": [
        "collection.insert_one({\"name\":\"sun\",\n",
        "                       \"designation\": \"genai engineer\",\n",
        "                       \"location\":\"bangaluru\",\n",
        "                       \"mailid\":\"sun.savi@ineon.ai\"})"
      ],
      "metadata": {
        "id": "UYhC_ocpUMLL"
      },
      "execution_count": null,
      "outputs": []
    },
    {
      "cell_type": "code",
      "source": [
        "collection.insert_one({\"name\":\"dip\",\n",
        "                       \"designation\": \"ops manager\",\n",
        "                       \"location\":\"bangaluru\"})"
      ],
      "metadata": {
        "id": "b06bukanU8U1"
      },
      "execution_count": null,
      "outputs": []
    },
    {
      "cell_type": "code",
      "source": [
        "collection2=db[\"moviecollectionsecond\"]"
      ],
      "metadata": {
        "id": "zTZA1nVCVhyk"
      },
      "execution_count": null,
      "outputs": []
    },
    {
      "cell_type": "code",
      "source": [
        "collection2.insert_one({\"name\":\"kris\",\n",
        "                       \"designation\": \"tech lead\",\n",
        "                       \"location\":\"bangaluru\",\n",
        "                        \"phonenumber\":57454745834})"
      ],
      "metadata": {
        "id": "5zEeouaAVsus"
      },
      "execution_count": null,
      "outputs": []
    },
    {
      "cell_type": "code",
      "source": [
        "collection.delete_many({})"
      ],
      "metadata": {
        "id": "TPGUbL3-V2Y0"
      },
      "execution_count": null,
      "outputs": []
    },
    {
      "cell_type": "code",
      "source": [
        "dataset_df.tail(3)"
      ],
      "metadata": {
        "id": "I-vVy61IWP-5"
      },
      "execution_count": null,
      "outputs": []
    },
    {
      "cell_type": "code",
      "source": [
        "document=dataset_df.to_dict(\"records\")"
      ],
      "metadata": {
        "id": "UloWvipUWauA"
      },
      "execution_count": null,
      "outputs": []
    },
    {
      "cell_type": "code",
      "source": [
        "collection.insert_many(document)\n",
        "\n",
        "print(\"data ingestion in mongodb is completed\")"
      ],
      "metadata": {
        "id": "JCkSCIGXWg1_"
      },
      "execution_count": null,
      "outputs": []
    },
    {
      "cell_type": "code",
      "source": [
        "{\n",
        " \"fields\": [{\n",
        "     \"numDimensions\": 1024,\n",
        "     \"path\": \"embedding\",\n",
        "     \"similarity\": \"cosine\",\n",
        "     \"type\": \"vector\"\n",
        "   }]\n",
        "}"
      ],
      "metadata": {
        "id": "1DwzWaZOYk4i"
      },
      "execution_count": null,
      "outputs": []
    },
    {
      "cell_type": "code",
      "source": [
        "def vector_search(user_query,collection):\n",
        "\n",
        "  query_embedding=get_embedding(user_query)\n",
        "\n",
        "  if query_embedding is None:\n",
        "    return \"Invalid query or embeddig is failed\"\n",
        "\n",
        "  pipeline=[\n",
        "\n",
        "            {\n",
        "                \"$vectorSearch\":{\n",
        "\n",
        "                \"index\": \"vector_index\",\n",
        "                \"queryVector\": query_embedding,\n",
        "                \"path\": \"embedding\",\n",
        "                \"numCandidates\": 150,  # Number of candidate matches to consider\n",
        "                \"limit\": 4,  # Return top 4 matches\n",
        "\n",
        "\n",
        "                }\n",
        "\n",
        "            },\n",
        "\n",
        "              {\n",
        "                 \"$project\":{\n",
        "\n",
        "                \"_id\": 0,  # Exclude the _id field\n",
        "                \"fullplot\": 1,  # Include the plot field\n",
        "                \"title\": 1,  # Include the title field\n",
        "                \"genres\": 1,  # Include the genres field\n",
        "                \"score\": {\"$meta\": \"vectorSearchScore\"},  # Include the search score\n",
        "                 }\n",
        "\n",
        "            }\n",
        "\n",
        "           ]\n",
        "\n",
        "  result=collection.aggregate(pipeline)\n",
        "  return list(result)\n"
      ],
      "metadata": {
        "id": "5kwa6hwXXI45"
      },
      "execution_count": null,
      "outputs": []
    },
    {
      "cell_type": "code",
      "source": [
        "list(vector_search(\"what is the best horror movie to watch and why?\",collection))"
      ],
      "metadata": {
        "id": "fZVDFWsDbWv-"
      },
      "execution_count": null,
      "outputs": []
    },
    {
      "cell_type": "code",
      "source": [
        "query=\"what is the best horror movie to watch and why?\""
      ],
      "metadata": {
        "id": "QvWOUfu1bZW6"
      },
      "execution_count": null,
      "outputs": []
    },
    {
      "cell_type": "code",
      "source": [
        "def get_search_result(query,collection):\n",
        "\n",
        "  get_knowledge=vector_search(query,collection)\n",
        "\n",
        "  search_result=\"\"\n",
        "\n",
        "  for result in get_knowledge:\n",
        "        search_result += f\"Title: {result.get('title', 'N/A')}, Plot: {result.get('fullplot', 'N/A')}\\n\"\n",
        "\n",
        "  return search_result\n",
        "\n"
      ],
      "metadata": {
        "id": "iaSjGap8ZJtT"
      },
      "execution_count": null,
      "outputs": []
    },
    {
      "cell_type": "code",
      "source": [
        "query=\"what is the best horror movie to watch and why?\"\n",
        "\n",
        "source_information=get_search_result(query,collection)"
      ],
      "metadata": {
        "id": "EHZGjhJ7Z6b1"
      },
      "execution_count": null,
      "outputs": []
    },
    {
      "cell_type": "code",
      "source": [
        "source_information"
      ],
      "metadata": {
        "id": "t6k9DevnaRDc"
      },
      "execution_count": null,
      "outputs": []
    },
    {
      "cell_type": "code",
      "source": [
        "combined_information = f\"Query: {query}\\nContinue to answer the query by using the Search Results:\\n{source_information}.\"\n",
        "\n",
        "print(combined_information)"
      ],
      "metadata": {
        "id": "A4QC_8z8cfz8"
      },
      "execution_count": null,
      "outputs": []
    },
    {
      "cell_type": "code",
      "source": [
        "from transformers import AutoTokenizer, AutoModelForCausalLM\n",
        "\n",
        "tokenizer = AutoTokenizer.from_pretrained(\"google/gemma-2b-it\")"
      ],
      "metadata": {
        "id": "jxsf6vWtctkV"
      },
      "execution_count": null,
      "outputs": []
    },
    {
      "cell_type": "code",
      "source": [
        "# CPU Enabled uncomment below 👇🏽\n",
        "# model = AutoModelForCausalLM.from_pretrained(\"google/gemma-2b-it\")\n",
        "# GPU Enabled use below 👇🏽\n",
        "model = AutoModelForCausalLM.from_pretrained(\"google/gemma-2b-it\", device_map=\"auto\")"
      ],
      "metadata": {
        "id": "NMAP5qXfaSTU"
      },
      "execution_count": null,
      "outputs": []
    },
    {
      "cell_type": "code",
      "source": [
        "# Moving tensors to GPU\n",
        "input_ids = tokenizer(combined_information, return_tensors=\"pt\").to(\"cuda\")"
      ],
      "metadata": {
        "id": "cgaBBvZ3coGx"
      },
      "execution_count": null,
      "outputs": []
    },
    {
      "cell_type": "code",
      "source": [
        "response = model.generate(**input_ids, max_new_tokens=500)"
      ],
      "metadata": {
        "id": "SXoUYd1Ycprt"
      },
      "execution_count": null,
      "outputs": []
    },
    {
      "cell_type": "code",
      "source": [
        "print(tokenizer.decode(response[0]))"
      ],
      "metadata": {
        "id": "Kmjpg_yFcTlq"
      },
      "execution_count": null,
      "outputs": []
    }
  ]
}
