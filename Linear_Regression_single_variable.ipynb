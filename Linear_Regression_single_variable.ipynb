{
  "nbformat": 4,
  "nbformat_minor": 0,
  "metadata": {
    "colab": {
      "provenance": [],
      "gpuType": "T4",
      "mount_file_id": "1zsuYHTb2Pm8AQuBuO3KnI2M_kfIQ-rSp",
      "authorship_tag": "ABX9TyMJqpdi7wktvHrC1TQt/nEg"
    },
    "kernelspec": {
      "name": "python3",
      "display_name": "Python 3"
    },
    "language_info": {
      "name": "python"
    },
    "accelerator": "GPU"
  },
  "cells": [
    {
      "cell_type": "code",
      "execution_count": 55,
      "metadata": {
        "id": "6GvF_Z3BZkO-"
      },
      "outputs": [],
      "source": [
        "import pandas as pd\n",
        "import numpy as np\n",
        "import matplotlib.pyplot as plt\n",
        "from sklearn.linear_model import LinearRegression"
      ]
    },
    {
      "cell_type": "code",
      "source": [
        "#df = pd.read_csv(\"/content/drive/MyDrive/AI ML/Data/homeprices.csv\")"
      ],
      "metadata": {
        "id": "1XAPz54QeAQY"
      },
      "execution_count": 2,
      "outputs": []
    },
    {
      "cell_type": "code",
      "source": [
        "df = pd.read_csv(\"/content/drive/MyDrive/AI ML/Data/homeprices.csv\")"
      ],
      "metadata": {
        "id": "bsB5zaj_oPRb"
      },
      "execution_count": 6,
      "outputs": []
    },
    {
      "cell_type": "code",
      "source": [
        "area=df.area.values.reshape(-1,1)\n",
        "price= df.price.values.reshape(-1,1)"
      ],
      "metadata": {
        "id": "Q0I6KVXKeHcg"
      },
      "execution_count": 50,
      "outputs": []
    },
    {
      "cell_type": "code",
      "source": [
        "area"
      ],
      "metadata": {
        "id": "17swcuhjcSPT"
      },
      "execution_count": null,
      "outputs": []
    },
    {
      "cell_type": "code",
      "source": [
        "#draw a scatter plot\n",
        "%matplotlib inline\n",
        "plt.xlabel('area(sqr ft)')\n",
        "plt.ylabel('price(US$)')\n",
        "plt.scatter(df.area,df.price,color='red',marker='+')"
      ],
      "metadata": {
        "id": "8UFl85TMgKHL"
      },
      "execution_count": null,
      "outputs": []
    },
    {
      "cell_type": "code",
      "source": [
        "reg = LinearRegression()\n"
      ],
      "metadata": {
        "id": "vx1HDa12j0aO"
      },
      "execution_count": 56,
      "outputs": []
    },
    {
      "cell_type": "code",
      "source": [
        "df[['price']]"
      ],
      "metadata": {
        "id": "3HrW1PmQaGC_"
      },
      "execution_count": null,
      "outputs": []
    },
    {
      "cell_type": "code",
      "source": [
        "reg.fit(area,price)"
      ],
      "metadata": {
        "id": "zw2U1sYKaCBO"
      },
      "execution_count": null,
      "outputs": []
    },
    {
      "cell_type": "code",
      "source": [
        "reg.predict([[5000]])"
      ],
      "metadata": {
        "id": "3e1tkA4Dmu-h"
      },
      "execution_count": null,
      "outputs": []
    },
    {
      "cell_type": "code",
      "source": [
        "reg.coef_"
      ],
      "metadata": {
        "id": "eR5TM2nZc9a1"
      },
      "execution_count": null,
      "outputs": []
    },
    {
      "cell_type": "code",
      "source": [
        "reg.intercept_"
      ],
      "metadata": {
        "id": "NKQ8i7pZdD2E"
      },
      "execution_count": null,
      "outputs": []
    },
    {
      "cell_type": "code",
      "source": [
        "#y=m*x+b        calculate how model predict actual price\n",
        "135.78767123*5000+180616.43835616"
      ],
      "metadata": {
        "id": "uW6oa97idItL"
      },
      "execution_count": null,
      "outputs": []
    },
    {
      "cell_type": "code",
      "source": [
        "# lets find prices of all areas mentioned in csv using model passing each area one by one\n",
        "\n",
        "#read csv\n",
        "df_area = pd.read_csv(\"/content/drive/MyDrive/AI ML/Data/areas.csv\")"
      ],
      "metadata": {
        "id": "dFvQIKXHfCcb"
      },
      "execution_count": 66,
      "outputs": []
    },
    {
      "cell_type": "code",
      "source": [
        "#save predicted price value in variable\n",
        "pedicted_price = reg.predict(df_area)"
      ],
      "metadata": {
        "id": "GXwo8T-2fgj2"
      },
      "execution_count": null,
      "outputs": []
    },
    {
      "cell_type": "code",
      "source": [
        "# create new 'price' column in areas.csv and save csv\n",
        "df_area['price'] = pedicted_price\n",
        "df_area.to_csv(\"/content/drive/MyDrive/AI ML/Data/predicted_prices.csv\",index=False)"
      ],
      "metadata": {
        "id": "_gykZ-ifgJaW"
      },
      "execution_count": 71,
      "outputs": []
    }
  ]
}