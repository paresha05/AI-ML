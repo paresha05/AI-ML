{
  "nbformat": 4,
  "nbformat_minor": 0,
  "metadata": {
    "colab": {
      "provenance": [],
      "gpuType": "T4",
      "authorship_tag": "ABX9TyNemvsZH1I+QGv+xzl7KTKD"
    },
    "kernelspec": {
      "name": "python3",
      "display_name": "Python 3"
    },
    "language_info": {
      "name": "python"
    },
    "accelerator": "GPU"
  },
  "cells": [
    {
      "cell_type": "code",
      "execution_count": 2,
      "metadata": {
        "id": "TPCM22Fyfjir"
      },
      "outputs": [],
      "source": [
        "import pandas as pd\n",
        "import numpy as np\n",
        "import os\n",
        "import gensim\n",
        "import nltk"
      ]
    },
    {
      "cell_type": "code",
      "source": [
        "nltk.download(\"all\")"
      ],
      "metadata": {
        "id": "Wwyj9lKahXi0"
      },
      "execution_count": null,
      "outputs": []
    },
    {
      "cell_type": "code",
      "source": [
        "from nltk import sent_tokenize\n",
        "from gensim.utils import simple_preprocess"
      ],
      "metadata": {
        "id": "hnm1OVAAhoRO"
      },
      "execution_count": 4,
      "outputs": []
    },
    {
      "cell_type": "code",
      "source": [
        "story=[]"
      ],
      "metadata": {
        "id": "oHyyyUl0iUoX"
      },
      "execution_count": 5,
      "outputs": []
    },
    {
      "cell_type": "code",
      "source": [
        "for file in os.listdir(\"/content/GOT_Data\"):\n",
        "  f=open(\"/content/GOT_Data/001ssb.txt\",encoding=\"unicode_escape\")\n",
        "\n",
        "corpus=f.read()"
      ],
      "metadata": {
        "id": "NvZ2vb-giUpf"
      },
      "execution_count": 6,
      "outputs": []
    },
    {
      "cell_type": "markdown",
      "source": [
        "convert data to token as sentancees\n"
      ],
      "metadata": {
        "id": "f6bTVQWnjif1"
      }
    },
    {
      "cell_type": "code",
      "source": [
        "raw_sent=sent_tokenize(corpus)"
      ],
      "metadata": {
        "id": "KgOSc8FCjp4U"
      },
      "execution_count": 7,
      "outputs": []
    },
    {
      "cell_type": "code",
      "source": [
        "for i in raw_sent:\n",
        "  print(simple_preprocess(i))"
      ],
      "metadata": {
        "id": "KooavleUkG6d"
      },
      "execution_count": null,
      "outputs": []
    },
    {
      "cell_type": "code",
      "source": [
        "for filename in os.listdir(\"/content/GOT_Data\"):\n",
        "  file_path=os.path.join(\"/content/GOT_Data\",filename)\n",
        "  with open(file_path,encoding='unicode_escape') as f:\n",
        "    corpus=f.read()\n",
        "  raw_sent=sent_tokenize(corpus)\n",
        "  for sent in raw_sent:\n",
        "    story.append(simple_preprocess(sent))"
      ],
      "metadata": {
        "id": "63VF3TQIr4mY"
      },
      "execution_count": 9,
      "outputs": []
    },
    {
      "cell_type": "code",
      "source": [
        "len(story)"
      ],
      "metadata": {
        "colab": {
          "base_uri": "https://localhost:8080/"
        },
        "id": "uYAyJJtNtFOz",
        "outputId": "26ab722f-91ee-4273-c128-c25094775147"
      },
      "execution_count": 10,
      "outputs": [
        {
          "output_type": "execute_result",
          "data": {
            "text/plain": [
              "145020"
            ]
          },
          "metadata": {},
          "execution_count": 10
        }
      ]
    },
    {
      "cell_type": "code",
      "source": [
        "story[7]"
      ],
      "metadata": {
        "colab": {
          "base_uri": "https://localhost:8080/"
        },
        "id": "K9TTZDCFAVsv",
        "outputId": "eb6005fb-8439-4803-bc1d-390217f277bd"
      },
      "execution_count": 12,
      "outputs": [
        {
          "output_type": "execute_result",
          "data": {
            "text/plain": [
              "['the', 'maester', 'did', 'not', 'believe', 'in', 'omens']"
            ]
          },
          "metadata": {},
          "execution_count": 12
        }
      ]
    },
    {
      "cell_type": "markdown",
      "source": [
        "Train the model."
      ],
      "metadata": {
        "id": "KnW7LbffA7HB"
      }
    },
    {
      "cell_type": "code",
      "source": [
        "#Configure model\n",
        "model=gensim.models.Word2Vec(window=10,min_count=5,vector_size=150)"
      ],
      "metadata": {
        "id": "3OF-JWLkBAkF"
      },
      "execution_count": 15,
      "outputs": []
    },
    {
      "cell_type": "code",
      "source": [
        "#model will build uniqe words from story\n",
        "model.build_vocab(story)"
      ],
      "metadata": {
        "id": "42GSovDGL2er"
      },
      "execution_count": 16,
      "outputs": []
    },
    {
      "cell_type": "code",
      "source": [
        "model.corpus_count"
      ],
      "metadata": {
        "colab": {
          "base_uri": "https://localhost:8080/"
        },
        "id": "3AflEv-gMOUy",
        "outputId": "ad4b6cbb-1654-4ff5-a06c-6673f0fdbce2"
      },
      "execution_count": 17,
      "outputs": [
        {
          "output_type": "execute_result",
          "data": {
            "text/plain": [
              "145020"
            ]
          },
          "metadata": {},
          "execution_count": 17
        }
      ]
    },
    {
      "cell_type": "code",
      "source": [
        "model.epochs"
      ],
      "metadata": {
        "colab": {
          "base_uri": "https://localhost:8080/"
        },
        "id": "NzyAbTPXMZ36",
        "outputId": "72ae809d-fc66-4aa7-ff32-102a902b190c"
      },
      "execution_count": 18,
      "outputs": [
        {
          "output_type": "execute_result",
          "data": {
            "text/plain": [
              "5"
            ]
          },
          "metadata": {},
          "execution_count": 18
        }
      ]
    },
    {
      "cell_type": "code",
      "source": [
        "model.corpus_total_words"
      ],
      "metadata": {
        "colab": {
          "base_uri": "https://localhost:8080/"
        },
        "id": "o_r249kPMllm",
        "outputId": "65c2ba0d-23cc-4274-cf48-12f5e67eb583"
      },
      "execution_count": 19,
      "outputs": [
        {
          "output_type": "execute_result",
          "data": {
            "text/plain": [
              "1725638"
            ]
          },
          "metadata": {},
          "execution_count": 19
        }
      ]
    },
    {
      "cell_type": "code",
      "source": [
        "#train model\n",
        "model.train(story,total_examples=model.corpus_count,epochs=model.epochs)"
      ],
      "metadata": {
        "colab": {
          "base_uri": "https://localhost:8080/"
        },
        "id": "CBtUx0sLM4kv",
        "outputId": "29442fd4-2206-4688-8bbf-8d79a852481f"
      },
      "execution_count": 20,
      "outputs": [
        {
          "output_type": "execute_result",
          "data": {
            "text/plain": [
              "(6482883, 8628190)"
            ]
          },
          "metadata": {},
          "execution_count": 20
        }
      ]
    },
    {
      "cell_type": "code",
      "source": [
        "model.wv['king']"
      ],
      "metadata": {
        "id": "nnQ9dXO9M4l6"
      },
      "execution_count": null,
      "outputs": []
    },
    {
      "cell_type": "code",
      "source": [
        "len(model.wv['king'])"
      ],
      "metadata": {
        "colab": {
          "base_uri": "https://localhost:8080/"
        },
        "id": "rQ8H9wPtN9ub",
        "outputId": "d22f6e93-9833-4c45-d7dc-b87d69c5a44d"
      },
      "execution_count": 22,
      "outputs": [
        {
          "output_type": "execute_result",
          "data": {
            "text/plain": [
              "150"
            ]
          },
          "metadata": {},
          "execution_count": 22
        }
      ]
    },
    {
      "cell_type": "code",
      "source": [
        "len(model.wv['man'])"
      ],
      "metadata": {
        "colab": {
          "base_uri": "https://localhost:8080/"
        },
        "id": "5sJZKHJHOAjp",
        "outputId": "60f384d6-86e5-4e31-9f01-15d061b6f020"
      },
      "execution_count": 23,
      "outputs": [
        {
          "output_type": "execute_result",
          "data": {
            "text/plain": [
              "150"
            ]
          },
          "metadata": {},
          "execution_count": 23
        }
      ]
    },
    {
      "cell_type": "code",
      "source": [
        "len(model.wv['woman'])"
      ],
      "metadata": {
        "colab": {
          "base_uri": "https://localhost:8080/"
        },
        "id": "zYEoorYbOJVF",
        "outputId": "2c1462d1-c021-42f9-a1ba-93456e22c48f"
      },
      "execution_count": 24,
      "outputs": [
        {
          "output_type": "execute_result",
          "data": {
            "text/plain": [
              "150"
            ]
          },
          "metadata": {},
          "execution_count": 24
        }
      ]
    },
    {
      "cell_type": "code",
      "source": [
        "model.wv.most_similar(\"king\")"
      ],
      "metadata": {
        "id": "rAZfFuQdOXdD"
      },
      "execution_count": null,
      "outputs": []
    },
    {
      "cell_type": "code",
      "source": [
        "model.wv.most_similar(\"daenerys\")"
      ],
      "metadata": {
        "id": "D2WeS4-8OpqD"
      },
      "execution_count": null,
      "outputs": []
    },
    {
      "cell_type": "code",
      "source": [
        "model.wv.most_similar(\"queen\")"
      ],
      "metadata": {
        "id": "DBIopnJ3PFlr"
      },
      "execution_count": null,
      "outputs": []
    },
    {
      "cell_type": "code",
      "source": [
        "model.wv.doesnt_match(['paresha','jon','rikon','robb','sansa','bran'])"
      ],
      "metadata": {
        "colab": {
          "base_uri": "https://localhost:8080/",
          "height": 52
        },
        "id": "hxzo6sd1PgyO",
        "outputId": "5e313d72-cea7-41bc-89f4-633d648f9d93"
      },
      "execution_count": 31,
      "outputs": [
        {
          "output_type": "stream",
          "name": "stderr",
          "text": [
            "WARNING:gensim.models.keyedvectors:vectors for words {'paresha', 'rikon'} are not present in the model, ignoring these words\n"
          ]
        },
        {
          "output_type": "execute_result",
          "data": {
            "text/plain": [
              "'sansa'"
            ],
            "application/vnd.google.colaboratory.intrinsic+json": {
              "type": "string"
            }
          },
          "metadata": {},
          "execution_count": 31
        }
      ]
    },
    {
      "cell_type": "code",
      "source": [
        "model.wv.get_normed_vectors()"
      ],
      "metadata": {
        "id": "ukBRELMtQs4-"
      },
      "execution_count": null,
      "outputs": []
    },
    {
      "cell_type": "code",
      "source": [
        "model.wv.get_normed_vectors().shape"
      ],
      "metadata": {
        "colab": {
          "base_uri": "https://localhost:8080/"
        },
        "id": "vs6tZ5-FQ1rI",
        "outputId": "16f468c9-3c42-469b-c2c3-b0cf28637a4e"
      },
      "execution_count": 35,
      "outputs": [
        {
          "output_type": "execute_result",
          "data": {
            "text/plain": [
              "(11760, 150)"
            ]
          },
          "metadata": {},
          "execution_count": 35
        }
      ]
    },
    {
      "cell_type": "code",
      "source": [
        "len(model.wv.index_to_key)"
      ],
      "metadata": {
        "colab": {
          "base_uri": "https://localhost:8080/"
        },
        "id": "Tca3RzhNRLfx",
        "outputId": "16f6847b-1dc1-4966-db8b-87eca96bbb38"
      },
      "execution_count": 37,
      "outputs": [
        {
          "output_type": "execute_result",
          "data": {
            "text/plain": [
              "11760"
            ]
          },
          "metadata": {},
          "execution_count": 37
        }
      ]
    },
    {
      "cell_type": "code",
      "source": [
        "model.save(\"trained_word2vec_model.model\")"
      ],
      "metadata": {
        "id": "W36dZzqKRiBa"
      },
      "execution_count": 38,
      "outputs": []
    }
  ]
}