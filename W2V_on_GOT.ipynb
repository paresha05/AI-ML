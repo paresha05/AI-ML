{
  "nbformat": 4,
  "nbformat_minor": 0,
  "metadata": {
    "colab": {
      "provenance": [],
      "gpuType": "T4",
      "authorship_tag": "ABX9TyMRVichMKnu2O7/YubwxNxJ"
    },
    "kernelspec": {
      "name": "python3",
      "display_name": "Python 3"
    },
    "language_info": {
      "name": "python"
    },
    "accelerator": "GPU"
  },
  "cells": [
    {
      "cell_type": "code",
      "execution_count": null,
      "metadata": {
        "id": "TPCM22Fyfjir"
      },
      "outputs": [],
      "source": [
        "import pandas as pd\n",
        "import numpy as np\n",
        "import os\n",
        "import gensim\n",
        "import nltk"
      ]
    },
    {
      "cell_type": "code",
      "source": [
        "nltk.download(\"all\")"
      ],
      "metadata": {
        "id": "Wwyj9lKahXi0"
      },
      "execution_count": null,
      "outputs": []
    },
    {
      "cell_type": "code",
      "source": [
        "from nltk import sent_tokenize\n",
        "from gensim.utils import simple_preprocess"
      ],
      "metadata": {
        "id": "hnm1OVAAhoRO"
      },
      "execution_count": null,
      "outputs": []
    },
    {
      "cell_type": "code",
      "source": [
        "story=[]"
      ],
      "metadata": {
        "id": "oHyyyUl0iUoX"
      },
      "execution_count": null,
      "outputs": []
    },
    {
      "cell_type": "code",
      "source": [
        "for file in os.listdir(\"/content/GOT_Data\"):\n",
        "  f=open(\"/content/GOT_Data/001ssb.txt\",encoding=\"unicode_escape\")\n",
        "\n",
        "corpus=f.read()"
      ],
      "metadata": {
        "id": "NvZ2vb-giUpf"
      },
      "execution_count": null,
      "outputs": []
    },
    {
      "cell_type": "markdown",
      "source": [
        "convert data to token as sentancees\n"
      ],
      "metadata": {
        "id": "f6bTVQWnjif1"
      }
    },
    {
      "cell_type": "code",
      "source": [
        "raw_sent=sent_tokenize(corpus)"
      ],
      "metadata": {
        "id": "KgOSc8FCjp4U"
      },
      "execution_count": null,
      "outputs": []
    },
    {
      "cell_type": "code",
      "source": [
        "for i in raw_sent:\n",
        "  print(simple_preprocess(i))"
      ],
      "metadata": {
        "id": "KooavleUkG6d"
      },
      "execution_count": null,
      "outputs": []
    },
    {
      "cell_type": "code",
      "source": [
        "for filename in os.listdir(\"/content/GOT_Data\"):\n",
        "  file_path=os.path.join(\"/content/GOT_Data\",filename)\n",
        "  with open(file_path,encoding='unicode_escape') as f:\n",
        "    corpus=f.read()\n",
        "  raw_sent=sent_tokenize(corpus)\n",
        "  for sent in raw_sent:\n",
        "    story.append(simple_preprocess(sent))"
      ],
      "metadata": {
        "id": "63VF3TQIr4mY"
      },
      "execution_count": 8,
      "outputs": []
    },
    {
      "cell_type": "code",
      "source": [
        "len(story)"
      ],
      "metadata": {
        "colab": {
          "base_uri": "https://localhost:8080/"
        },
        "id": "uYAyJJtNtFOz",
        "outputId": "2d2d494e-b8f4-4147-aede-cbc02d7c55dd"
      },
      "execution_count": 10,
      "outputs": [
        {
          "output_type": "execute_result",
          "data": {
            "text/plain": [
              "145020"
            ]
          },
          "metadata": {},
          "execution_count": 10
        }
      ]
    }
  ]
}